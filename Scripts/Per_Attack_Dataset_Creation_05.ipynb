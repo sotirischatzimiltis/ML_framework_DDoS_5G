{
 "cells": [
  {
   "cell_type": "code",
   "execution_count": 1,
   "id": "d4eb8fd9",
   "metadata": {},
   "outputs": [],
   "source": [
    "import pandas as pd\n",
    "import os\n",
    "from datetime import datetime"
   ]
  },
  {
   "cell_type": "code",
   "execution_count": 2,
   "id": "b12bf102",
   "metadata": {},
   "outputs": [],
   "source": [
    "# Define paths\n",
    "input_folder = '../Datasets/Per_UE_Datasets_final'\n",
    "output_folder = '../Datasets/Per_Attack_Datasets'\n",
    "\n",
    "# Create output folder if it doesn't exist\n",
    "os.makedirs(output_folder, exist_ok=True)"
   ]
  },
  {
   "cell_type": "code",
   "execution_count": 3,
   "id": "51e90880",
   "metadata": {},
   "outputs": [],
   "source": [
    "# Define the time ranges and their corresponding file names\n",
    "time_ranges = {\n",
    "    \"SYN\": (\"2024-08-17 12:00:00\", \"2024-08-18 09:00:00\"),\n",
    "    \"ICMP\": (\"2024-08-18 09:00:01\", \"2024-08-19 12:00:00\"),\n",
    "    \"UDP\": (\"2024-08-19 12:00:01\", \"2024-08-20 12:00:00\"),\n",
    "    \"DNS\": (\"2024-08-20 12:00:01\", \"2024-08-21 14:00:00\"),\n",
    "    \"GTPU\": (\"2024-08-21 14:00:01\", \"2024-08-22 06:59:58\"),\n",
    "}"
   ]
  },
  {
   "cell_type": "code",
   "execution_count": 4,
   "id": "ebe480fc",
   "metadata": {},
   "outputs": [],
   "source": [
    "# Create output data structures\n",
    "output_data = {key: [] for key in time_ranges.keys()}\n",
    "\n",
    "# Process each user CSV file\n",
    "for filename in os.listdir(input_folder):\n",
    "    if filename.endswith('.csv'):\n",
    "        # Load the CSV file\n",
    "        filepath = os.path.join(input_folder, filename)\n",
    "        print(filepath)\n",
    "        df = pd.read_csv(filepath, parse_dates=['_time'])  # Ensure 'timestamp' column is parsed as datetime\n",
    "\n",
    "        # Filter data based on each time range and store it in the output data structure\n",
    "        for name, (start, end) in time_ranges.items():\n",
    "            start_time = datetime.strptime(start, \"%Y-%m-%d %H:%M:%S\")\n",
    "            end_time = datetime.strptime(end, \"%Y-%m-%d %H:%M:%S\")\n",
    "            filtered_data = df[(df['_time'] >= start_time) & (df['_time'] <= end_time)]\n",
    "            output_data[name].append(filtered_data)\n",
    "\n",
    "# Save each output data structure into a single CSV file per time range\n",
    "for name, data_frames in output_data.items():\n",
    "    # Concatenate data from all users for this specific time range\n",
    "    combined_df = pd.concat(data_frames)\n",
    "    \n",
    "    # Save to a new CSV file\n",
    "    output_file = os.path.join(output_folder, f\"{name}.csv\")\n",
    "    combined_df.to_csv(output_file, index=False)\n",
    "    print(f\"Saved {output_file}\")\n"
   ]
  },
  {
   "cell_type": "code",
   "execution_count": null,
   "id": "a1c8a07b",
   "metadata": {},
   "outputs": [],
   "source": []
  }
 ],
 "metadata": {
  "kernelspec": {
   "display_name": "Python 3 (ipykernel)",
   "language": "python",
   "name": "python3"
  },
  "language_info": {
   "codemirror_mode": {
    "name": "ipython",
    "version": 3
   },
   "file_extension": ".py",
   "mimetype": "text/x-python",
   "name": "python",
   "nbconvert_exporter": "python",
   "pygments_lexer": "ipython3",
   "version": "3.11.3"
  }
 },
 "nbformat": 4,
 "nbformat_minor": 5
}
