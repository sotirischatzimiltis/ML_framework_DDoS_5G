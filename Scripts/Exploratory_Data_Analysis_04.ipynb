{
 "cells": [
  {
   "cell_type": "markdown",
   "id": "aaf9f5b2",
   "metadata": {},
   "source": [
    "#### Import Packages"
   ]
  },
  {
   "cell_type": "code",
   "execution_count": 1,
   "id": "4abcba16",
   "metadata": {},
   "outputs": [],
   "source": [
    "import pandas as pd\n",
    "import os\n",
    "import matplotlib.pyplot as plt\n",
    "import seaborn as sns\n",
    "import numpy as np\n",
    "from statsmodels.nonparametric.kde import KDEUnivariate"
   ]
  },
  {
   "cell_type": "markdown",
   "id": "65df6e6b",
   "metadata": {},
   "source": [
    "#### Define aux functions"
   ]
  },
  {
   "cell_type": "code",
   "execution_count": 2,
   "id": "5471ceef",
   "metadata": {},
   "outputs": [],
   "source": [
    "# Define reusable functions\n",
    "def load_data(input_folder):\n",
    "    \"\"\"Load and combine CSV files from a given folder into a single DataFrame.\"\"\"\n",
    "    dataframes = [pd.read_csv(os.path.join(input_folder, file)) for file in os.listdir(input_folder) if file.endswith('.csv')]\n",
    "    return pd.concat(dataframes, ignore_index=True)\n",
    "\n",
    "def calculate_statistics(data, features, group_column):\n",
    "    \"\"\"Calculate descriptive statistics and variance grouped by a specific column.\"\"\"\n",
    "    grouped_data = data.groupby(group_column)[features]\n",
    "    stats = {f\"Label {label}\": group.describe().T.assign(variance=group.var()) for label, group in grouped_data}\n",
    "    return pd.concat(stats, axis=0)\n",
    "\n",
    "def save_statistics(stats, filename):\n",
    "    \"\"\"Save statistics as tab-separated text and CSV for Excel.\"\"\"\n",
    "    print(stats.to_csv(sep=\"\\t\"))\n",
    "    stats.to_csv(filename, index=True)\n",
    "def plot_distributions(data, features, group_column, is_multiclass=False, output_folder=\"plots\"):\n",
    "    \"\"\"\n",
    "    Plot KDE distributions of features for binary or multiclass labels and save them to a folder.\n",
    "\n",
    "    Parameters:\n",
    "    - data: DataFrame containing the data.\n",
    "    - features: List of feature names to plot.\n",
    "    - group_column: Column name used for grouping (e.g., 'binary_label' or 'multiclass_label').\n",
    "    - is_multiclass: Boolean indicating whether it's multiclass (True) or binary (False).\n",
    "    - output_folder: Path to the folder where plots will be saved.\n",
    "    \"\"\"\n",
    "    # Create the output folder if it doesn't exist\n",
    "    os.makedirs(output_folder, exist_ok=True)\n",
    "\n",
    "    for feature in features:\n",
    "        plt.figure(figsize=(12, 7))\n",
    "        \n",
    "        # Loop through each unique label in the group_column\n",
    "        for label in data[group_column].unique():\n",
    "            subset = data[data[group_column] == label][feature].dropna()  # Drop NaNs for clean data\n",
    "            # Label naming to differentiate normal and attack types\n",
    "            label_name = \"Normal\" if label == 0 else (f\"Attack Type {int(label)}\" if is_multiclass else \"Attack\")\n",
    "            \n",
    "            # Check if the variance is zero; if so, skip this subset\n",
    "            if subset.nunique() > 1:  # Only plot if there is more than one unique value\n",
    "                sns.kdeplot(data=subset, label=label_name, fill=True, alpha=0.5)\n",
    "            else:\n",
    "                print(f\"Skipping {feature} for {label_name} due to zero variance.\")\n",
    "\n",
    "        plt.title(f'Distribution of {feature} Across {group_column} Labels')\n",
    "        plt.xlabel(feature)\n",
    "        plt.ylabel('Density')\n",
    "        plt.legend()\n",
    "\n",
    "        # Save the plot\n",
    "        plot_filename = os.path.join(output_folder, f\"{feature}_distribution.png\")\n",
    "        plt.savefig(plot_filename)\n",
    "        plt.close()  # Close the plot to free memory\n",
    "        print(f\"Saved plot: {plot_filename}\")"
   ]
  },
  {
   "cell_type": "code",
   "execution_count": 3,
   "id": "5eee077e",
   "metadata": {},
   "outputs": [],
   "source": [
    "# Set Seaborn style directly\n",
    "sns.set_style(\"darkgrid\")  # Use Seaborn's darkgrid style directly\n",
    "\n",
    "def plot_kde_with_gaussian_kernel(data, features, group_column, bandwidth_methods=[\"scott\", \"silverman\"], output_folder=\"kde_kernel_comparison_plots\"):\n",
    "    \"\"\"\n",
    "    Plot KDEs with the Gaussian kernel and different bandwidth methods, comparing Normal and Attack on the same plot,\n",
    "    with filled areas under each line for better comparison.\n",
    "\n",
    "    Parameters:\n",
    "    - data: DataFrame containing the data.\n",
    "    - features: List of feature names to plot.\n",
    "    - group_column: Column name used for grouping (e.g., 'binary_label' or 'multiclass_label').\n",
    "    - bandwidth_methods: List of bandwidth methods to apply (e.g., 'scott', 'silverman').\n",
    "    - output_folder: Path to the folder where plots will be saved.\n",
    "    \"\"\"\n",
    "\n",
    "    # Ensure the output folder exists\n",
    "    os.makedirs(output_folder, exist_ok=True)\n",
    "\n",
    "    # Set the context for high-quality appearance\n",
    "    plt.rcParams.update({\n",
    "        \"figure.dpi\": 150,  # High resolution for display\n",
    "        \"axes.titlesize\": 14,\n",
    "        \"axes.labelsize\": 12,\n",
    "        \"legend.fontsize\": 10,\n",
    "        \"lines.linewidth\": 1.8\n",
    "    })\n",
    "\n",
    "    # Iterate over each feature and generate KDEs\n",
    "    for feature in features:\n",
    "        for bw_method in bandwidth_methods:\n",
    "            plt.figure(figsize=(10, 6))\n",
    "            \n",
    "            # Plot KDEs for both Normal and Attack on the same plot\n",
    "            for label in data[group_column].unique():\n",
    "                subset = data[data[group_column] == label][feature].dropna()\n",
    "                label_name = \"Normal\" if label == 0 else \"Attack\"\n",
    "                \n",
    "                # Check if the variance is zero; if so, skip this subset\n",
    "                if subset.var() == 0:\n",
    "                    print(f\"Skipping {feature} for {label_name} due to zero variance.\")\n",
    "                    continue\n",
    "\n",
    "                # Fit KDE with Gaussian kernel and specified bandwidth\n",
    "                kde = KDEUnivariate(subset)\n",
    "                try:\n",
    "                    kde.fit(kernel=\"gau\", bw=bw_method)\n",
    "                except RuntimeError:\n",
    "                    print(f\"Failed to estimate density for {feature} - {label_name} with bw={bw_method}.\")\n",
    "                    continue\n",
    "                \n",
    "                # Set color and plot filled area for each category\n",
    "                color = \"steelblue\" if label == 0 else \"coral\"\n",
    "                plt.fill_between(kde.support, kde.density, color=color, alpha=0.5, label=f\"{label_name} - BW: {bw_method}\")\n",
    "\n",
    "            # Customizing the title, labels, and legend\n",
    "            plt.title(f'Distribution of {feature} Across {group_column} Labels (Gaussian Kernel, BW: {bw_method})')\n",
    "            plt.xlabel(feature)\n",
    "            plt.ylabel(\"Density\")\n",
    "            plt.legend(loc=\"upper right\", frameon=True, shadow=True)\n",
    "\n",
    "            # Save the plot with a high-quality format\n",
    "            plot_filename = os.path.join(output_folder, f\"{feature}_comparison_gaussian_bw_{bw_method}.png\")\n",
    "            plt.savefig(plot_filename, format=\"png\", dpi=300, bbox_inches=\"tight\")\n",
    "            plt.close()  # Close the plot to free memory\n",
    "            print(f\"Saved high-quality plot with filled area: {plot_filename}\")"
   ]
  },
  {
   "cell_type": "markdown",
   "id": "4aba13cb",
   "metadata": {},
   "source": [
    "#### Define features for analysis"
   ]
  },
  {
   "cell_type": "code",
   "execution_count": 4,
   "id": "620b679d",
   "metadata": {},
   "outputs": [],
   "source": [
    "# Select key features to analyze\n",
    "key_features = ['bearer_0_dl_total_bytes', 'bearer_0_ul_total_bytes',\n",
    "       'bearer_1_dl_total_bytes', 'bearer_1_ul_total_bytes', 'dl_bitrate',\n",
    "       'ul_bitrate', 'ul_retx', 'ul_err', 'ul_mcs', 'ul_path_loss', 'ul_phr',\n",
    "       'dl_err', 'dl_mcs', 'dl_retx', 'dl_tx', 'cqi', 'epre', 'p_ue',\n",
    "       'pusch_snr', 'turbo_decoder_avg', 'ul_tx']"
   ]
  },
  {
   "cell_type": "markdown",
   "id": "bf29e2f7",
   "metadata": {},
   "source": [
    "#### EDA for the normal final datasets"
   ]
  },
  {
   "cell_type": "code",
   "execution_count": 5,
   "id": "bb6089c4",
   "metadata": {},
   "outputs": [],
   "source": [
    "# EDA for main dataset\n",
    "input_folder = 'Per_UE_Datasets_final'\n",
    "combined_data = load_data(input_folder)\n",
    "normal_data, attack_data = combined_data[combined_data[\"binary_label\"] == 0], combined_data[combined_data[\"binary_label\"] == 1]"
   ]
  },
  {
   "cell_type": "code",
   "execution_count": 6,
   "id": "71283b31",
   "metadata": {
    "scrolled": true
   },
   "outputs": [
    {
     "name": "stdout",
     "output_type": "stream",
     "text": [
      "Saved plot: binary_dist_plots\\bearer_0_dl_total_bytes_distribution.png\n",
      "Saved plot: binary_dist_plots\\bearer_0_ul_total_bytes_distribution.png\n",
      "Saved plot: binary_dist_plots\\bearer_1_dl_total_bytes_distribution.png\n",
      "Saved plot: binary_dist_plots\\bearer_1_ul_total_bytes_distribution.png\n",
      "Saved plot: binary_dist_plots\\dl_bitrate_distribution.png\n",
      "Saved plot: binary_dist_plots\\ul_bitrate_distribution.png\n",
      "Saved plot: binary_dist_plots\\ul_retx_distribution.png\n",
      "Saved plot: binary_dist_plots\\ul_err_distribution.png\n",
      "Saved plot: binary_dist_plots\\ul_mcs_distribution.png\n",
      "Saved plot: binary_dist_plots\\ul_path_loss_distribution.png\n",
      "Saved plot: binary_dist_plots\\ul_phr_distribution.png\n",
      "Saved plot: binary_dist_plots\\dl_err_distribution.png\n",
      "Saved plot: binary_dist_plots\\dl_mcs_distribution.png\n",
      "Saved plot: binary_dist_plots\\dl_retx_distribution.png\n",
      "Saved plot: binary_dist_plots\\dl_tx_distribution.png\n",
      "Saved plot: binary_dist_plots\\cqi_distribution.png\n",
      "Saved plot: binary_dist_plots\\epre_distribution.png\n",
      "Saved plot: binary_dist_plots\\p_ue_distribution.png\n",
      "Saved plot: binary_dist_plots\\pusch_snr_distribution.png\n",
      "Saved plot: binary_dist_plots\\turbo_decoder_avg_distribution.png\n",
      "Saved plot: binary_dist_plots\\ul_tx_distribution.png\n"
     ]
    }
   ],
   "source": [
    "# Plot binary label distributions\n",
    "plot_distributions(combined_data, key_features, group_column=\"binary_label\",is_multiclass=False,output_folder='binary_dist_plots')"
   ]
  },
  {
   "cell_type": "code",
   "execution_count": 7,
   "id": "09d0df54",
   "metadata": {},
   "outputs": [],
   "source": [
    "plot_kde_with_gaussian_kernel(\n",
    "    data=combined_data,\n",
    "    features=key_features,\n",
    "    group_column=\"binary_label\",\n",
    "    bandwidth_methods=[\"scott\", \"silverman\"],\n",
    "    output_folder=\"kde_gaussian_kernel_experiments_binary\"\n",
    ")"
   ]
  },
  {
   "cell_type": "code",
   "execution_count": 8,
   "id": "252d03a5",
   "metadata": {},
   "outputs": [
    {
     "name": "stdout",
     "output_type": "stream",
     "text": [
      "\t\tcount\tmean\tstd\tmin\t25%\t50%\t75%\tmax\tvariance\r\n",
      "Label 0\tbearer_0_dl_total_bytes\t674570.0\t6799738888.840869\t17763902926.13668\t88.0\t5147481.0\t8694907.0\t14194781.0\t87991056255.0\t3.155562471692073e+20\r\n",
      "Label 0\tbearer_0_ul_total_bytes\t674570.0\t29853010769.196995\t80579429065.1857\t0.0\t538821.0\t1001362.0\t2052056.0\t425728090140.0\t6.493044388471295e+21\r\n",
      "Label 0\tbearer_1_dl_total_bytes\t674570.0\t6914896072.0263605\t18027516051.309536\t0.0\t3805959.0\t10727921.5\t23466751.5\t90169667041.0\t3.24991334980223e+20\r\n",
      "Label 0\tbearer_1_ul_total_bytes\t674570.0\t40677478717.37499\t112949432101.05373\t0.0\t1037923.75\t15845324.5\t11211046130.0\t732967598835.0\t1.2757574211950548e+22\r\n",
      "Label 0\tdl_bitrate\t674570.0\t1156557.9124256934\t1573068.8532443282\t0.0\t3611.0\t5538.0\t3209316.0\t71486108.0\t2474545617047.426\r\n",
      "Label 0\tul_bitrate\t674570.0\t5323119.854922395\t8441077.288567143\t0.0\t3070.0\t81975.5\t10236734.0\t69480666.0\t71251785791564.03\r\n",
      "Label 0\tul_retx\t674570.0\t56.6773440858621\t74.79692622591163\t0.0\t0.0\t24.0\t118.0\t656.0\t5594.580172844467\r\n",
      "Label 0\tul_err\t674570.0\t0.09781193945772863\t0.6863022507342702\t0.0\t0.0\t0.0\t0.0\t126.0\t0.471010779362925\r\n",
      "Label 0\tul_mcs\t674570.0\t18.428339534814775\t7.549158792105745\t0.0\t12.1\t18.7\t26.0\t27.2\t56.98979846842747\r\n",
      "Label 0\tul_path_loss\t674570.0\t73.9937492773174\t11.25961798995357\t45.9\t65.0\t73.2\t81.3\t100.8\t126.7789972796861\r\n",
      "Label 0\tul_phr\t674570.0\t24.68806721318766\t12.26537381929291\t-16.0\t18.0\t28.0\t36.0\t38.0\t150.43939492699593\r\n",
      "Label 0\tdl_err\t674570.0\t0.05572586981336259\t0.40826652256595974\t0.0\t0.0\t0.0\t0.0\t48.0\t0.16668155344810132\r\n",
      "Label 0\tdl_mcs\t674570.0\t19.327166861852735\t7.567427930385953\t0.0\t12.8\t19.7\t26.8\t27.0\t57.265965481585425\r\n",
      "Label 0\tdl_retx\t674570.0\t35.0131698711772\t57.387163146949845\t0.0\t2.0\t5.0\t38.0\t770.0\t3293.2864940546388\r\n",
      "Label 0\tdl_tx\t674570.0\t592.880732911336\t799.9351210681956\t0.0\t20.0\t22.0\t1405.0\t3652.0\t639896.1979183888\r\n",
      "Label 0\tcqi\t674570.0\t12.146116785507806\t3.258017752237047\t0.0\t10.0\t13.0\t15.0\t15.0\t10.61467967389174\r\n",
      "Label 0\tepre\t674570.0\t-103.97174185036394\t15.138702856012864\t-146.4\t-113.8\t-103.5\t-90.5\t-71.9\t229.18032416265206\r\n",
      "Label 0\tp_ue\t674570.0\t-8.786215663311443\t12.075770299443535\t-28.0\t-17.0\t-13.0\t-1.0\t21.0\t145.8242283249226\r\n",
      "Label 0\tpusch_snr\t674570.0\t24.766849993329078\t9.082114667390181\t-35.0\t18.5\t23.3\t30.9\t56.1\t82.48480683162387\r\n",
      "Label 0\tturbo_decoder_avg\t674570.0\t2.563337389003365\t0.5639639129357296\t1.0\t2.071\t2.633\t2.909\t5.0\t0.3180552950937791\r\n",
      "Label 0\tul_tx\t674570.0\t608.6017581570482\t688.9977410230863\t0.0\t10.0\t282.0\t1301.0\t2125.0\t474717.88713491586\r\n",
      "Label 1\tbearer_0_dl_total_bytes\t11456.0\t8383214.300628492\t3494324.020547321\t4091430.0\t4864932.0\t7810634.0\t11734414.0\t13225250.0\t12210300360573.996\r\n",
      "Label 1\tbearer_0_ul_total_bytes\t11456.0\t1226116.8074371507\t498769.35910453694\t614292.0\t730634.0\t1118536.0\t1703948.0\t1928640.0\t248770873581.55057\r\n",
      "Label 1\tbearer_1_dl_total_bytes\t11456.0\t14839168.32437151\t7014418.2174997805\t2872268.0\t9391179.25\t15981838.0\t21550308.0\t26030736.0\t49202062929992.8\r\n",
      "Label 1\tbearer_1_ul_total_bytes\t11456.0\t6894213293.853003\t6686942321.531449\t6098119.0\t154664883.75\t7273265251.0\t11721536668.5\t19886427035.0\t4.47151976114884e+19\r\n",
      "Label 1\tdl_bitrate\t11456.0\t45718.687063547484\t35176.90802423076\t0.0\t20601.0\t28109.5\t88046.0\t200032.0\t1237414858.1451905\r\n",
      "Label 1\tul_bitrate\t11456.0\t6289109.277321927\t6826681.102407993\t0.0\t136849.5\t4020806.5\t9466585.25\t22928211.0\t46603574873974.414\r\n",
      "Label 1\tul_retx\t11456.0\t106.91716131284916\t86.46483675629959\t0.0\t45.0\t87.0\t124.0\t482.0\t7476.1679952935365\r\n",
      "Label 1\tul_err\t11456.0\t2.9361033519553073\t10.902581306698458\t0.0\t0.0\t0.0\t0.0\t68.0\t118.86627914917068\r\n",
      "Label 1\tul_mcs\t11456.0\t16.007524441340784\t7.5260299720627595\t0.0\t12.5\t17.5\t21.7\t27.0\t56.641127140386985\r\n",
      "Label 1\tul_path_loss\t11456.0\t76.05116969273743\t11.821152775052763\t46.5\t65.4\t77.5\t87.6\t90.4\t139.73965293113764\r\n",
      "Label 1\tul_phr\t11456.0\t25.373254189944134\t11.404762745301635\t3.0\t13.0\t28.0\t38.0\t38.0\t130.06861327662008\r\n",
      "Label 1\tdl_err\t11456.0\t0.3575418994413408\t1.2593607040051973\t0.0\t0.0\t0.0\t0.0\t15.0\t1.585989382792466\r\n",
      "Label 1\tdl_mcs\t11456.0\t15.787185754189943\t9.369672739841993\t3.0\t7.2\t10.7\t26.9\t27.0\t87.79076725173817\r\n",
      "Label 1\tdl_retx\t11456.0\t41.62054818435754\t48.987271102506384\t0.0\t2.0\t21.0\t69.0\t273.0\t2399.752730070457\r\n",
      "Label 1\tdl_tx\t11456.0\t288.5637220670391\t158.49501476720863\t15.0\t113.0\t293.0\t451.0\t503.0\t25120.669706057684\r\n",
      "Label 1\tcqi\t11456.0\t10.282733938547485\t3.973012679170198\t0.0\t7.0\t9.0\t14.0\t15.0\t15.784829748847157\r\n",
      "Label 1\tepre\t11456.0\t-110.93546613128493\t11.618885122855625\t-128.9\t-120.4\t-113.3\t-102.0\t-75.3\t134.99849149811575\r\n",
      "Label 1\tp_ue\t11456.0\t-9.799930167597765\t8.023630747120526\t-24.0\t-17.0\t-7.0\t-3.0\t7.0\t64.3786503661379\r\n",
      "Label 1\tpusch_snr\t11456.0\t21.935858938547486\t6.673463930637919\t-10.2\t20.4\t21.8\t25.1\t47.6\t44.535120833525305\r\n",
      "Label 1\tturbo_decoder_avg\t11456.0\t2.4896379189944127\t0.4864960487199874\t1.0\t2.06075\t2.576\t2.921\t4.72\t0.23667840542016036\r\n",
      "Label 1\tul_tx\t11456.0\t780.6398393854748\t383.14830230689546\t8.0\t488.0\t944.0\t1044.0\t1300.0\t146802.62156065615\r\n",
      "\n"
     ]
    }
   ],
   "source": [
    "# Calculate and save statistics for binary labels\n",
    "binary_stats_combined = calculate_statistics(combined_data, key_features, \"binary_label\")\n",
    "save_statistics(binary_stats_combined, \"binary_stats_combined.csv\")"
   ]
  },
  {
   "cell_type": "code",
   "execution_count": 9,
   "id": "76d50bd8",
   "metadata": {
    "scrolled": true
   },
   "outputs": [
    {
     "name": "stdout",
     "output_type": "stream",
     "text": [
      "Saved plot: mclass_dist_plots\\bearer_0_dl_total_bytes_distribution.png\n",
      "Saved plot: mclass_dist_plots\\bearer_0_ul_total_bytes_distribution.png\n",
      "Saved plot: mclass_dist_plots\\bearer_1_dl_total_bytes_distribution.png\n",
      "Saved plot: mclass_dist_plots\\bearer_1_ul_total_bytes_distribution.png\n",
      "Saved plot: mclass_dist_plots\\dl_bitrate_distribution.png\n",
      "Saved plot: mclass_dist_plots\\ul_bitrate_distribution.png\n",
      "Saved plot: mclass_dist_plots\\ul_retx_distribution.png\n",
      "Skipping ul_err for Attack Type 1 due to zero variance.\n",
      "Saved plot: mclass_dist_plots\\ul_err_distribution.png\n",
      "Saved plot: mclass_dist_plots\\ul_mcs_distribution.png\n",
      "Saved plot: mclass_dist_plots\\ul_path_loss_distribution.png\n",
      "Saved plot: mclass_dist_plots\\ul_phr_distribution.png\n",
      "Skipping dl_err for Attack Type 1 due to zero variance.\n",
      "Saved plot: mclass_dist_plots\\dl_err_distribution.png\n",
      "Saved plot: mclass_dist_plots\\dl_mcs_distribution.png\n",
      "Saved plot: mclass_dist_plots\\dl_retx_distribution.png\n",
      "Saved plot: mclass_dist_plots\\dl_tx_distribution.png\n",
      "Saved plot: mclass_dist_plots\\cqi_distribution.png\n",
      "Saved plot: mclass_dist_plots\\epre_distribution.png\n",
      "Saved plot: mclass_dist_plots\\p_ue_distribution.png\n",
      "Saved plot: mclass_dist_plots\\pusch_snr_distribution.png\n",
      "Saved plot: mclass_dist_plots\\turbo_decoder_avg_distribution.png\n",
      "Saved plot: mclass_dist_plots\\ul_tx_distribution.png\n"
     ]
    }
   ],
   "source": [
    "# Plot multiclass label distributions\n",
    "plot_distributions(combined_data, key_features, group_column=\"multiclass_label\", is_multiclass=True,output_folder='mclass_dist_plots')"
   ]
  },
  {
   "cell_type": "code",
   "execution_count": 10,
   "id": "1b4748a9",
   "metadata": {},
   "outputs": [
    {
     "name": "stdout",
     "output_type": "stream",
     "text": [
      "Skipping ul_err for Attack due to zero variance.\n",
      "Skipping ul_err for Attack due to zero variance.\n",
      "Skipping dl_err for Attack due to zero variance.\n",
      "Skipping dl_err for Attack due to zero variance.\n"
     ]
    }
   ],
   "source": [
    "plot_kde_with_gaussian_kernel(\n",
    "    data=combined_data,\n",
    "    features=key_features,\n",
    "    group_column=\"multiclass_label\",\n",
    "    bandwidth_methods=[\"scott\", \"silverman\"],\n",
    "    output_folder=\"kde_gaussian_kernel_experiments_mclass\"\n",
    ")"
   ]
  },
  {
   "cell_type": "code",
   "execution_count": 11,
   "id": "d1f02e59",
   "metadata": {
    "scrolled": true
   },
   "outputs": [
    {
     "name": "stdout",
     "output_type": "stream",
     "text": [
      "\t\tcount\tmean\tstd\tmin\t25%\t50%\t75%\tmax\tvariance\r\n",
      "Label 0\tbearer_0_dl_total_bytes\t674570.0\t6799738888.840869\t17763902926.13668\t88.0\t5147481.0\t8694907.0\t14194781.0\t87991056255.0\t3.155562471692073e+20\r\n",
      "Label 0\tbearer_0_ul_total_bytes\t674570.0\t29853010769.196995\t80579429065.1857\t0.0\t538821.0\t1001362.0\t2052056.0\t425728090140.0\t6.493044388471295e+21\r\n",
      "Label 0\tbearer_1_dl_total_bytes\t674570.0\t6914896072.0263605\t18027516051.309536\t0.0\t3805959.0\t10727921.5\t23466751.5\t90169667041.0\t3.24991334980223e+20\r\n",
      "Label 0\tbearer_1_ul_total_bytes\t674570.0\t40677478717.37499\t112949432101.05373\t0.0\t1037923.75\t15845324.5\t11211046130.0\t732967598835.0\t1.2757574211950548e+22\r\n",
      "Label 0\tdl_bitrate\t674570.0\t1156557.9124256934\t1573068.8532443282\t0.0\t3611.0\t5538.0\t3209316.0\t71486108.0\t2474545617047.426\r\n",
      "Label 0\tul_bitrate\t674570.0\t5323119.854922395\t8441077.288567143\t0.0\t3070.0\t81975.5\t10236734.0\t69480666.0\t71251785791564.03\r\n",
      "Label 0\tul_retx\t674570.0\t56.6773440858621\t74.79692622591163\t0.0\t0.0\t24.0\t118.0\t656.0\t5594.580172844467\r\n",
      "Label 0\tul_err\t674570.0\t0.09781193945772863\t0.6863022507342702\t0.0\t0.0\t0.0\t0.0\t126.0\t0.471010779362925\r\n",
      "Label 0\tul_mcs\t674570.0\t18.428339534814775\t7.549158792105745\t0.0\t12.1\t18.7\t26.0\t27.2\t56.98979846842747\r\n",
      "Label 0\tul_path_loss\t674570.0\t73.9937492773174\t11.25961798995357\t45.9\t65.0\t73.2\t81.3\t100.8\t126.7789972796861\r\n",
      "Label 0\tul_phr\t674570.0\t24.68806721318766\t12.26537381929291\t-16.0\t18.0\t28.0\t36.0\t38.0\t150.43939492699593\r\n",
      "Label 0\tdl_err\t674570.0\t0.05572586981336259\t0.40826652256595974\t0.0\t0.0\t0.0\t0.0\t48.0\t0.16668155344810132\r\n",
      "Label 0\tdl_mcs\t674570.0\t19.327166861852735\t7.567427930385953\t0.0\t12.8\t19.7\t26.8\t27.0\t57.265965481585425\r\n",
      "Label 0\tdl_retx\t674570.0\t35.0131698711772\t57.387163146949845\t0.0\t2.0\t5.0\t38.0\t770.0\t3293.2864940546388\r\n",
      "Label 0\tdl_tx\t674570.0\t592.880732911336\t799.9351210681956\t0.0\t20.0\t22.0\t1405.0\t3652.0\t639896.1979183888\r\n",
      "Label 0\tcqi\t674570.0\t12.146116785507806\t3.258017752237047\t0.0\t10.0\t13.0\t15.0\t15.0\t10.61467967389174\r\n",
      "Label 0\tepre\t674570.0\t-103.97174185036394\t15.138702856012864\t-146.4\t-113.8\t-103.5\t-90.5\t-71.9\t229.18032416265206\r\n",
      "Label 0\tp_ue\t674570.0\t-8.786215663311443\t12.075770299443535\t-28.0\t-17.0\t-13.0\t-1.0\t21.0\t145.8242283249226\r\n",
      "Label 0\tpusch_snr\t674570.0\t24.766849993329078\t9.082114667390181\t-35.0\t18.5\t23.3\t30.9\t56.1\t82.48480683162387\r\n",
      "Label 0\tturbo_decoder_avg\t674570.0\t2.563337389003365\t0.5639639129357296\t1.0\t2.071\t2.633\t2.909\t5.0\t0.3180552950937791\r\n",
      "Label 0\tul_tx\t674570.0\t608.6017581570482\t688.9977410230863\t0.0\t10.0\t282.0\t1301.0\t2125.0\t474717.88713491586\r\n",
      "Label 1\tbearer_0_dl_total_bytes\t1402.0\t7806988.034236805\t73370.28698354207\t7711622.0\t7728038.0\t7794402.0\t7841434.0\t7923882.0\t5383199012.047323\r\n",
      "Label 1\tbearer_0_ul_total_bytes\t1402.0\t1117087.1611982882\t10761.25648334495\t1103096.0\t1105528.0\t1114856.0\t1122700.0\t1134176.0\t115804641.10033374\r\n",
      "Label 1\tbearer_1_dl_total_bytes\t1402.0\t13940593.65192582\t2137851.251431893\t11656340.0\t11805314.0\t13940406.0\t16075771.0\t16225900.0\t4570407973248.912\r\n",
      "Label 1\tbearer_1_ul_total_bytes\t1402.0\t7685956097.771754\t2111316697.3146179\t4505154461.0\t5741477687.0\t7515015626.0\t9626731278.0\t11203641343.0\t4.457658196359506e+18\r\n",
      "Label 1\tdl_bitrate\t1402.0\t64466.36447931526\t28873.1812860651\t12671.0\t35577.75\t86561.5\t92935.5\t145975.0\t833660597.57798\r\n",
      "Label 1\tul_bitrate\t1402.0\t9957390.742510699\t4114105.7482906133\t1715641.0\t5853771.0\t6736328.0\t14077751.0\t15263973.0\t16925866108117.865\r\n",
      "Label 1\tul_retx\t1402.0\t98.86804564907276\t13.546720077995875\t31.0\t86.0\t95.0\t112.0\t124.0\t183.51362487157655\r\n",
      "Label 1\tul_err\t1402.0\t0.0\t0.0\t0.0\t0.0\t0.0\t0.0\t0.0\t0.0\r\n",
      "Label 1\tul_mcs\t1402.0\t18.043794579172612\t0.4753683066932665\t17.1\t17.6\t17.9\t18.5\t18.9\t0.22597502700842348\r\n",
      "Label 1\tul_path_loss\t1402.0\t84.39343794579173\t3.728417754236767\t75.2\t83.1\t85.25\t87.6\t89.3\t13.901098950107937\r\n",
      "Label 1\tul_phr\t1402.0\t25.204707560627675\t9.494288035625798\t16.0\t16.0\t24.0\t38.0\t38.0\t90.14150530342718\r\n",
      "Label 1\tdl_err\t1402.0\t0.0\t0.0\t0.0\t0.0\t0.0\t0.0\t0.0\t0.0\r\n",
      "Label 1\tdl_mcs\t1402.0\t16.841298145506418\t9.622539966215339\t7.1\t7.2\t16.4\t26.5\t26.9\t92.5932754014115\r\n",
      "Label 1\tdl_retx\t1402.0\t44.65192582025678\t42.52518370289808\t0.0\t2.0\t18.5\t87.0\t115.0\t1808.3912489652284\r\n",
      "Label 1\tdl_tx\t1402.0\t416.91868758915837\t40.07101770540129\t128.0\t378.0\t407.5\t456.0\t476.0\t1605.6864599465835\r\n",
      "Label 1\tcqi\t1402.0\t10.748930099857347\t3.7739124242397626\t2.0\t7.0\t8.0\t15.0\t15.0\t14.242414985831243\r\n",
      "Label 1\tepre\t1402.0\t-120.96783166904424\t6.76658874201923\t-128.9\t-127.5\t-120.95\t-114.3\t-112.6\t45.786723203621385\r\n",
      "Label 1\tp_ue\t1402.0\t-9.741084165477888\t4.857205333200484\t-20.0\t-17.0\t-7.0\t-6.0\t-6.0\t23.59244364887122\r\n",
      "Label 1\tpusch_snr\t1402.0\t20.836875891583453\t1.1765018850448188\t18.2\t20.3\t20.65\t21.0\t31.5\t1.384156685514012\r\n",
      "Label 1\tturbo_decoder_avg\t1402.0\t2.977083452211127\t0.10133389180069116\t2.664\t2.891\t2.9684999999999997\t3.072\t3.173\t0.010268557627474183\r\n",
      "Label 1\tul_tx\t1402.0\t1087.6169757489301\t145.75570214591795\t377.0\t944.0\t1002.0\t1231.0\t1300.0\t21244.724708049554\r\n",
      "Label 2\tbearer_0_dl_total_bytes\t3756.0\t11667783.376996806\t127994.70093974288\t11459158.0\t11544214.0\t11673902.0\t11771450.0\t11932850.0\t16382643468.654215\r\n",
      "Label 2\tbearer_0_ul_total_bytes\t3756.0\t1694640.7891373802\t19710.188581971568\t1662876.0\t1675700.0\t1696084.0\t1711872.0\t1735456.0\t388491533.9368876\r\n",
      "Label 2\tbearer_1_dl_total_bytes\t3756.0\t21090076.179978702\t2126324.8477499173\t18826160.0\t18962219.0\t23066544.0\t23211486.0\t23355840.0\t4521257358158.71\r\n",
      "Label 2\tbearer_1_ul_total_bytes\t3756.0\t12110381064.284346\t3532258627.1534553\t6988505357.0\t9068593579.0\t11233836919.0\t15155452850.0\t19016637831.0\t1.2476851009100014e+19\r\n",
      "Label 2\tdl_bitrate\t3756.0\t60806.87007454739\t33553.490177633634\t4342.0\t27129.0\t91267.0\t93748.0\t200032.0\t1125836703.1005569\r\n",
      "Label 2\tul_bitrate\t3756.0\t11625779.749467518\t7598926.763212102\t152871.0\t4076498.0\t16538703.0\t19781456.25\t22928211.0\t57743687952661.16\r\n",
      "Label 2\tul_retx\t3756.0\t143.61235356762512\t60.22862254648311\t47.0\t86.0\t93.5\t207.0\t255.0\t3627.4869738467332\r\n",
      "Label 2\tul_err\t3756.0\t0.04206602768903089\t0.21486289414956433\t0.0\t0.0\t0.0\t0.0\t3.0\t0.04616606328232689\r\n",
      "Label 2\tul_mcs\t3756.0\t19.421592119275825\t5.427874470981932\t10.5\t14.2\t22.0\t25.4\t25.8\t29.46182127273739\r\n",
      "Label 2\tul_path_loss\t3756.0\t83.3800319488818\t4.686597100505586\t76.1\t77.4\t86.8\t87.7\t89.9\t21.964192382467363\r\n",
      "Label 2\tul_phr\t3756.0\t20.65468583599574\t11.269760010173362\t9.0\t9.0\t19.5\t28.0\t38.0\t127.0074906869027\r\n",
      "Label 2\tdl_err\t3756.0\t0.00026624068157614486\t0.01631688332912033\t0.0\t0.0\t0.0\t0.0\t1.0\t0.00026624068157612496\r\n",
      "Label 2\tdl_mcs\t3756.0\t17.08043130990415\t9.820624669294403\t7.0\t7.2\t26.4\t26.9\t27.0\t96.44466889515381\r\n",
      "Label 2\tdl_retx\t3756.0\t32.18769968051118\t30.67635561907533\t0.0\t2.0\t20.0\t62.25\t99.0\t941.0387940679747\r\n",
      "Label 2\tdl_tx\t3756.0\t366.42225772097976\t87.67474739832076\t21.0\t281.0\t445.5\t453.0\t493.0\t7686.861331359354\r\n",
      "Label 2\tcqi\t3756.0\t10.821352502662407\t3.7552671408851084\t2.0\t7.0\t13.0\t15.0\t15.0\t14.102031299411415\r\n",
      "Label 2\tepre\t3756.0\t-117.28333333333332\t4.227429191327447\t-125.1\t-120.5\t-120.1\t-113.2\t-110.8\t17.87115756768743\r\n",
      "Label 2\tp_ue\t3756.0\t-5.166666666666667\t6.319788351785531\t-18.0\t-7.0\t-5.0\t1.0\t1.0\t39.93972481136408\r\n",
      "Label 2\tpusch_snr\t3756.0\t24.34073482428115\t2.5053385116105655\t17.0\t21.8\t24.4\t27.0\t33.8\t6.276721057759045\r\n",
      "Label 2\tturbo_decoder_avg\t3756.0\t2.5715228966986157\t0.5461409706249636\t1.51\t2.049\t2.7645\t3.09\t3.324\t0.2982699597951773\r\n",
      "Label 2\tul_tx\t3756.0\t1017.5101171458999\t78.48881049539658\t490.0\t941.0\t975.0\t1094.0\t1160.0\t6160.493372982277\r\n",
      "Label 3\tbearer_0_dl_total_bytes\t1402.0\t13092333.409415122\t61939.910776470446\t13011522.0\t13027726.0\t13096010.0\t13124834.0\t13225250.0\t3836552546.99712\r\n",
      "Label 3\tbearer_0_ul_total_bytes\t1402.0\t1908110.1540656206\t9718.061960172821\t1895416.0\t1897748.0\t1909320.0\t1912704.0\t1928640.0\t94440728.26175803\r\n",
      "Label 3\tbearer_1_dl_total_bytes\t1402.0\t23645544.881597716\t2145198.385713491\t21248356.0\t21500671.0\t25528122.0\t25779457.0\t26030736.0\t4601876114067.768\r\n",
      "Label 3\tbearer_1_ul_total_bytes\t1402.0\t15748036514.356634\t3970197646.6764317\t11418054565.0\t11773157305.0\t19519652719.0\t19702833072.0\t19886427035.0\t1.5762469353675078e+19\r\n",
      "Label 3\tdl_bitrate\t1402.0\t66030.81312410842\t20882.63808258892\t6856.0\t45359.5\t82280.5\t86255.5\t167753.0\t436084573.2883931\r\n",
      "Label 3\tul_bitrate\t1402.0\t5292988.493580599\t3007981.420949508\t245101.0\t2459650.75\t5819643.0\t8166426.5\t10266549.0\t9047952228777.422\r\n",
      "Label 3\tul_retx\t1402.0\t104.72824536376605\t19.435970050982657\t30.0\t87.0\t97.5\t122.0\t207.0\t377.7569318226948\r\n",
      "Label 3\tul_err\t1402.0\t0.007845934379457917\t0.08826059139127776\t0.0\t0.0\t0.0\t0.0\t1.0\t0.007789931992738095\r\n",
      "Label 3\tul_mcs\t1402.0\t14.6688302425107\t6.97736873281675\t6.9\t7.7\t21.05\t21.6\t22.0\t48.683674433688815\r\n",
      "Label 3\tul_path_loss\t1402.0\t83.08873038516406\t5.573141076283997\t75.8\t76.7\t86.55000000000001\t88.1\t90.4\t31.059901456163942\r\n",
      "Label 3\tul_phr\t1402.0\t25.32025677603424\t8.387186647657375\t11.0\t16.0\t28.0\t30.0\t38.0\t70.34489986264215\r\n",
      "Label 3\tdl_err\t1402.0\t0.0007132667617689016\t0.02670705453188166\t0.0\t0.0\t0.0\t0.0\t1.0\t0.0007132667617689007\r\n",
      "Label 3\tdl_mcs\t1402.0\t17.085449358059915\t9.807700770768005\t7.0\t7.2\t26.45\t26.9\t27.0\t96.1909944089233\r\n",
      "Label 3\tdl_retx\t1402.0\t50.20256776034237\t47.690894977764884\t0.0\t3.0\t14.0\t97.0\t134.0\t2274.4214637802\r\n",
      "Label 3\tdl_tx\t1402.0\t438.4835948644793\t27.23587877348186\t31.0\t417.0\t435.0\t462.0\t503.0\t741.7930925637997\r\n",
      "Label 3\tcqi\t1402.0\t10.788873038516405\t3.7606386251474824\t3.0\t7.0\t8.0\t15.0\t15.0\t14.142402868951148\r\n",
      "Label 3\tepre\t1402.0\t-118.68587731811698\t4.488088793834275\t-125.7\t-123.0\t-120.5\t-114.2\t-112.2\t20.142941021340796\r\n",
      "Label 3\tp_ue\t1402.0\t-9.741797432239657\t6.298234611565419\t-22.0\t-16.0\t-9.0\t-6.0\t-1.0\t39.6677592223206\r\n",
      "Label 3\tpusch_snr\t1402.0\t22.960841654778886\t2.606139488073732\t16.2\t20.7\t22.75\t25.1\t32.2\t6.791963031297214\r\n",
      "Label 3\tturbo_decoder_avg\t1402.0\t2.088728958630528\t0.5018200229940171\t1.414\t1.598\t2.4775\t2.586\t2.937\t0.2518233354777158\r\n",
      "Label 3\tul_tx\t1402.0\t999.2132667617689\t53.10898947632554\t244.0\t959.0\t1007.5\t1042.0\t1083.0\t2820.5647631964566\r\n",
      "Label 4\tbearer_0_dl_total_bytes\t1399.0\t4147045.133666905\t52678.02938290936\t4091430.0\t4107690.0\t4130702.0\t4131070.0\t4260298.0\t2774974779.6666617\r\n",
      "Label 4\tbearer_0_ul_total_bytes\t1399.0\t622617.3466761973\t7866.2885566090645\t614292.0\t616624.0\t620254.0\t620654.0\t639474.0\t61878495.65583872\r\n",
      "Label 4\tbearer_1_dl_total_bytes\t1399.0\t5410949.692637598\t2300500.5450389567\t2872268.0\t3123274.0\t3374392.0\t7712750.0\t7965492.0\t5292302757724.536\r\n",
      "Label 4\tbearer_1_ul_total_bytes\t1399.0\t147048567.95711222\t85786039.54151455\t6098119.0\t74818612.5\t141387082.0\t209933678.0\t338356415.0\t7359244580218297.0\r\n",
      "Label 4\tdl_bitrate\t1399.0\t56044.196568977844\t31164.41760472334\t0.0\t24918.5\t81434.0\t86376.5\t142504.0\t971220924.6415902\r\n",
      "Label 4\tul_bitrate\t1399.0\t4839312.982844889\t3276914.922787552\t0.0\t1739427.0\t5852754.0\t7858039.0\t10452724.0\t10738171411187.746\r\n",
      "Label 4\tul_retx\t1399.0\t219.00428877769835\t132.75663185174707\t45.0\t90.0\t98.0\t345.0\t482.0\t17624.323300620305\r\n",
      "Label 4\tul_err\t1399.0\t22.447462473195138\t23.083568533920705\t0.0\t0.0\t0.0\t45.0\t68.0\t532.851136260214\r\n",
      "Label 4\tul_mcs\t1399.0\t11.712508934953538\t6.642338896679369\t3.7\t5.2\t17.6\t18.3\t19.1\t44.12066601833969\r\n",
      "Label 4\tul_path_loss\t1399.0\t64.74031451036454\t3.2049771582409887\t61.9\t63.2\t64.3\t65.65\t85.0\t10.271878584846485\r\n",
      "Label 4\tul_phr\t1399.0\t29.589706933523946\t10.01209896758189\t13.0\t16.0\t34.0\t38.0\t38.0\t100.24212573665436\r\n",
      "Label 4\tdl_err\t1399.0\t0.3073624017155111\t0.6754610396369848\t0.0\t0.0\t0.0\t0.0\t8.0\t0.4562476160674764\r\n",
      "Label 4\tdl_mcs\t1399.0\t18.1277340957827\t8.750846430226646\t6.9\t9.4\t26.3\t26.9\t27.0\t76.57731324541044\r\n",
      "Label 4\tdl_retx\t1399.0\t90.8734810578985\t91.17280126036412\t0.0\t2.0\t9.0\t180.0\t273.0\t8312.479689661854\r\n",
      "Label 4\tdl_tx\t1399.0\t334.9892780557541\t87.41209702398618\t16.0\t250.5\t392.0\t419.0\t488.0\t7640.874706130773\r\n",
      "Label 4\tcqi\t1399.0\t11.28734810578985\t4.3807099310885596\t0.0\t9.0\t14.0\t15.0\t15.0\t19.190619500337935\r\n",
      "Label 4\tepre\t1399.0\t-106.35153681200858\t5.694834531431249\t-115.7\t-111.9\t-103.1\t-100.5\t-98.6\t32.43114034038178\r\n",
      "Label 4\tp_ue\t1399.0\t-14.077912794853466\t6.184716701371587\t-24.0\t-17.0\t-17.0\t-6.0\t-3.0\t38.25072067622465\r\n",
      "Label 4\tpusch_snr\t1399.0\t16.696568977841316\t5.709492104712317\t-10.1\t11.3\t17.1\t22.4\t29.5\t32.59830009377229\r\n",
      "Label 4\tturbo_decoder_avg\t1399.0\t2.4614395997140814\t0.2682077358868294\t2.108\t2.236\t2.34\t2.738\t4.72\t0.07193538958953923\r\n",
      "Label 4\tul_tx\t1399.0\t967.6954967834167\t46.741736178951626\t15.0\t948.5\t968.0\t991.0\t1137.0\t2184.789901022715\r\n",
      "Label 5\tbearer_0_dl_total_bytes\t3497.0\t4893149.516156706\t60631.24456560094\t4809210.0\t4834834.0\t4888330.0\t4909198.0\t5038518.0\t3676147817.573713\r\n",
      "Label 5\tbearer_0_ul_total_bytes\t3497.0\t734616.8252788105\t8718.595912793211\t720370.0\t726952.0\t733144.0\t736574.0\t755494.0\t76013914.6905745\r\n",
      "Label 5\tbearer_1_dl_total_bytes\t3497.0\t8726766.184729768\t2054022.5621474795\t4579764.0\t9242544.0\t9432048.0\t9601933.0\t10782675.0\t4219008685810.8965\r\n",
      "Label 5\tbearer_1_ul_total_bytes\t3497.0\t123916965.44237918\t137998373.17730877\t12109951.0\t14283205.0\t15864589.0\t235931162.0\t340437195.0\t1.904355099958377e+16\r\n",
      "Label 5\tdl_bitrate\t3497.0\t9722.562482127538\t7635.568448006903\t0.0\t4196.0\t6706.0\t10504.0\t74125.0\t58301905.52419854\r\n",
      "Label 5\tul_bitrate\t3497.0\t65878.35001429798\t60241.87237111668\t0.0\t14142.0\t24180.0\t132781.0\t164368.0\t3629083186.777911\r\n",
      "Label 5\tul_retx\t3497.0\t26.767515012868174\t19.990157687671967\t0.0\t7.0\t28.0\t44.0\t144.0\t399.6064043779907\r\n",
      "Label 5\tul_err\t3497.0\t0.5899342293394338\t1.6131933952429875\t0.0\t0.0\t0.0\t0.0\t17.0\t2.6023929304555975\r\n",
      "Label 5\tul_mcs\t3497.0\t13.779182156133828\t9.457763577816356\t0.0\t4.7\t16.6\t19.2\t27.0\t89.44929189386964\r\n",
      "Label 5\tul_path_loss\t3497.0\t66.5384901344009\t12.843812220869696\t46.5\t62.6\t65.1\t68.3\t90.0\t164.96351236496173\r\n",
      "Label 5\tul_phr\t3497.0\t28.843294252216186\t11.92789316556181\t3.0\t32.0\t32.0\t38.0\t38.0\t142.27463536905617\r\n",
      "Label 5\tdl_err\t3497.0\t1.0477552187589363\t2.0728318383855977\t0.0\t0.0\t0.0\t1.0\t15.0\t4.296631830225017\r\n",
      "Label 5\tdl_mcs\t3497.0\t12.5187017443523\t7.873545721407434\t3.0\t7.0\t10.6\t13.8\t27.0\t61.99272222709331\r\n",
      "Label 5\tdl_retx\t3497.0\t27.3920503288533\t24.28979489146262\t0.0\t10.0\t21.0\t43.0\t153.0\t589.9941358693236\r\n",
      "Label 5\tdl_tx\t3497.0\t74.80125822133257\t36.80537778174147\t15.0\t46.0\t90.0\t109.0\t136.0\t1354.6358336567089\r\n",
      "Label 5\tcqi\t3497.0\t8.912496425507578\t3.839426619888734\t0.0\t6.0\t9.0\t12.0\t15.0\t14.741196769510228\r\n",
      "Label 5\tepre\t3497.0\t-98.82190448956248\t10.991724083007231\t-118.1\t-103.2\t-101.1\t-97.9\t-75.3\t120.81799831696115\r\n",
      "Label 5\tp_ue\t3497.0\t-13.11181012296254\t9.27555043550274\t-22.0\t-18.0\t-17.0\t-13.0\t7.0\t86.03583588155507\r\n",
      "Label 5\tpusch_snr\t3497.0\t21.478553045467542\t10.225303611478449\t-10.2\t17.8\t21.3\t25.2\t47.6\t104.55683394691421\r\n",
      "Label 5\tturbo_decoder_avg\t3497.0\t2.3782753788961966\t0.37638582901031736\t1.0\t2.028\t2.487\t2.66\t3.939\t0.14166629227978386\r\n",
      "Label 5\tul_tx\t3497.0\t240.69202173291393\t202.53383570994126\t8.0\t57.0\t107.0\t486.0\t510.0\t41019.95460738147\r\n",
      "\n"
     ]
    }
   ],
   "source": [
    "# Calculate and save statistics for multiclass labels\n",
    "multiclass_stats_combined = calculate_statistics(combined_data, key_features, \"multiclass_label\")\n",
    "save_statistics(multiclass_stats_combined, \"multiclass_stats_combined.csv\")"
   ]
  },
  {
   "cell_type": "markdown",
   "id": "816d9f74",
   "metadata": {},
   "source": [
    "#### EDA for the rate of change final datasets"
   ]
  },
  {
   "cell_type": "code",
   "execution_count": 12,
   "id": "d689d251",
   "metadata": {},
   "outputs": [],
   "source": [
    "# EDA for rate of change dataset\n",
    "input_folder_roc = 'Per_UE_Datasets_final_roc'\n",
    "combined_data_roc = load_data(input_folder_roc)\n",
    "normal_data_roc, attack_data_roc = combined_data_roc[combined_data_roc[\"binary_label\"] == 0], combined_data_roc[combined_data_roc[\"binary_label\"] == 1]"
   ]
  },
  {
   "cell_type": "code",
   "execution_count": 16,
   "id": "46790070",
   "metadata": {
    "scrolled": true
   },
   "outputs": [
    {
     "name": "stdout",
     "output_type": "stream",
     "text": [
      "Saved plot: binary_dist_plots_roc\\bearer_0_dl_total_bytes_distribution.png\n",
      "Saved plot: binary_dist_plots_roc\\bearer_0_ul_total_bytes_distribution.png\n",
      "Saved plot: binary_dist_plots_roc\\bearer_1_dl_total_bytes_distribution.png\n",
      "Saved plot: binary_dist_plots_roc\\bearer_1_ul_total_bytes_distribution.png\n",
      "Saved plot: binary_dist_plots_roc\\dl_bitrate_distribution.png\n",
      "Saved plot: binary_dist_plots_roc\\ul_bitrate_distribution.png\n",
      "Saved plot: binary_dist_plots_roc\\ul_retx_distribution.png\n",
      "Saved plot: binary_dist_plots_roc\\ul_err_distribution.png\n",
      "Saved plot: binary_dist_plots_roc\\ul_mcs_distribution.png\n",
      "Saved plot: binary_dist_plots_roc\\ul_path_loss_distribution.png\n",
      "Saved plot: binary_dist_plots_roc\\ul_phr_distribution.png\n",
      "Saved plot: binary_dist_plots_roc\\dl_err_distribution.png\n",
      "Saved plot: binary_dist_plots_roc\\dl_mcs_distribution.png\n",
      "Saved plot: binary_dist_plots_roc\\dl_retx_distribution.png\n",
      "Saved plot: binary_dist_plots_roc\\dl_tx_distribution.png\n",
      "Saved plot: binary_dist_plots_roc\\cqi_distribution.png\n",
      "Saved plot: binary_dist_plots_roc\\epre_distribution.png\n",
      "Saved plot: binary_dist_plots_roc\\p_ue_distribution.png\n",
      "Saved plot: binary_dist_plots_roc\\pusch_snr_distribution.png\n",
      "Saved plot: binary_dist_plots_roc\\turbo_decoder_avg_distribution.png\n",
      "Saved plot: binary_dist_plots_roc\\ul_tx_distribution.png\n"
     ]
    }
   ],
   "source": [
    "# Plot binary label distributions for rate of change\n",
    "plot_distributions(combined_data_roc, key_features, group_column=\"binary_label\", is_multiclass=False , output_folder='binary_dist_plots_roc')"
   ]
  },
  {
   "cell_type": "code",
   "execution_count": null,
   "id": "1a7e8f03",
   "metadata": {},
   "outputs": [],
   "source": [
    "plot_kde_with_gaussian_kernel(\n",
    "    data=combined_data_roc,\n",
    "    features=key_features,\n",
    "    group_column=\"binary_label\",\n",
    "    bandwidth_methods=[\"scott\", \"silverman\"],\n",
    "    output_folder=\"kde_gaussian_kernel_experiments_binary_roc\"\n",
    ")"
   ]
  },
  {
   "cell_type": "code",
   "execution_count": null,
   "id": "95b2918e",
   "metadata": {
    "scrolled": true
   },
   "outputs": [],
   "source": [
    "# Calculate and save statistics for binary labels (rate of change)\n",
    "binary_stats_combined_roc = calculate_statistics(combined_data_roc, key_features, \"binary_label\")\n",
    "save_statistics(binary_stats_combined_roc, \"binary_stats_combined_roc.csv\")"
   ]
  },
  {
   "cell_type": "code",
   "execution_count": null,
   "id": "b39efd8a",
   "metadata": {
    "scrolled": true
   },
   "outputs": [],
   "source": [
    "# Plot multiclass label distributions for rate of change\n",
    "plot_distributions(combined_data_roc, key_features, group_column=\"multiclass_label\", is_multiclass=True, output_folder='mclass_dist_plots_roc')"
   ]
  },
  {
   "cell_type": "code",
   "execution_count": null,
   "id": "d33a20d0",
   "metadata": {},
   "outputs": [],
   "source": [
    "plot_kde_with_gaussian_kernel(\n",
    "    data=combined_data_roc,\n",
    "    features=key_features,\n",
    "    group_column=\"multiclass_label\",\n",
    "    bandwidth_methods=[\"scott\", \"silverman\"],\n",
    "    output_folder=\"kde_gaussian_kernel_experiments_mclass_roc\"\n",
    ")"
   ]
  },
  {
   "cell_type": "code",
   "execution_count": null,
   "id": "5c757a95",
   "metadata": {
    "scrolled": true
   },
   "outputs": [],
   "source": [
    "# Calculate and save statistics for multiclass labels (rate of change)\n",
    "multiclass_stats_combined_roc = calculate_statistics(combined_data_roc, key_features, \"multiclass_label\")\n",
    "save_statistics(multiclass_stats_combined_roc, \"multiclass_stats_combined_roc.csv\")"
   ]
  },
  {
   "cell_type": "code",
   "execution_count": null,
   "id": "38d3f5d7",
   "metadata": {},
   "outputs": [],
   "source": []
  }
 ],
 "metadata": {
  "kernelspec": {
   "display_name": "Python 3 (ipykernel)",
   "language": "python",
   "name": "python3"
  },
  "language_info": {
   "codemirror_mode": {
    "name": "ipython",
    "version": 3
   },
   "file_extension": ".py",
   "mimetype": "text/x-python",
   "name": "python",
   "nbconvert_exporter": "python",
   "pygments_lexer": "ipython3",
   "version": "3.11.3"
  }
 },
 "nbformat": 4,
 "nbformat_minor": 5
}
