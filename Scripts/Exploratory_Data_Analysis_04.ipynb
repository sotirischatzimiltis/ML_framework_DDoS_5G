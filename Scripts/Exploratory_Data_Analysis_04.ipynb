{
 "cells": [
  {
   "cell_type": "markdown",
   "id": "aaf9f5b2",
   "metadata": {},
   "source": [
    "#### Import Packages"
   ]
  },
  {
   "cell_type": "code",
   "execution_count": null,
   "id": "4abcba16",
   "metadata": {},
   "outputs": [],
   "source": [
    "import pandas as pd\n",
    "import os\n",
    "import matplotlib.pyplot as plt\n",
    "import seaborn as sns\n",
    "import numpy as np\n",
    "from statsmodels.nonparametric.kde import KDEUnivariate"
   ]
  },
  {
   "cell_type": "markdown",
   "id": "65df6e6b",
   "metadata": {},
   "source": [
    "#### Define aux functions"
   ]
  },
  {
   "cell_type": "code",
   "execution_count": null,
   "id": "5471ceef",
   "metadata": {},
   "outputs": [],
   "source": [
    "# Define reusable functions\n",
    "def load_data(input_folder):\n",
    "    \"\"\"Load and combine CSV files from a given folder into a single DataFrame.\"\"\"\n",
    "    dataframes = [pd.read_csv(os.path.join(input_folder, file)) for file in os.listdir(input_folder) if file.endswith('.csv')]\n",
    "    return pd.concat(dataframes, ignore_index=True)\n",
    "\n",
    "def calculate_statistics(data, features, group_column):\n",
    "    \"\"\"Calculate descriptive statistics and variance grouped by a specific column.\"\"\"\n",
    "    grouped_data = data.groupby(group_column)[features]\n",
    "    stats = {f\"Label {label}\": group.describe().T.assign(variance=group.var()) for label, group in grouped_data}\n",
    "    return pd.concat(stats, axis=0)\n",
    "\n",
    "def save_statistics(stats, filename):\n",
    "    \"\"\"Save statistics as tab-separated text and CSV for Excel.\"\"\"\n",
    "    print(stats.to_csv(sep=\"\\t\"))\n",
    "    stats.to_csv(filename, index=True)\n",
    "\n",
    "def plot_distributions(data, features, group_column, is_multiclass=False, output_folder=\"plots\"):\n",
    "    \"\"\"\n",
    "    Plot KDE distributions of features for binary or multiclass labels and save them to a folder.\n",
    "\n",
    "    Parameters:\n",
    "    - data: DataFrame containing the data.\n",
    "    - features: List of feature names to plot.\n",
    "    - group_column: Column name used for grouping (e.g., 'binary_label' or 'multiclass_label').\n",
    "    - is_multiclass: Boolean indicating whether it's multiclass (True) or binary (False).\n",
    "    - output_folder: Path to the folder where plots will be saved.\n",
    "    \"\"\"\n",
    "    # Create the output folder if it doesn't exist\n",
    "    os.makedirs(output_folder, exist_ok=True)\n",
    "\n",
    "    for feature in features:\n",
    "        plt.figure(figsize=(12, 7))\n",
    "        for label in data[group_column].unique():\n",
    "            subset = data[data[group_column] == label]\n",
    "            label_name = \"Normal\" if label == 0 else (f\"Attack Type {label}\" if is_multiclass else \"Attack\")\n",
    "            sns.kdeplot(data=subset, x=feature, label=label_name, fill=True, alpha=0.5)\n",
    "        \n",
    "        plt.title(f'Distribution of {feature} Across {group_column} Labels')\n",
    "        plt.xlabel(feature)\n",
    "        plt.ylabel('Density')\n",
    "        plt.legend()\n",
    "\n",
    "        # Save the plot\n",
    "        plot_filename = os.path.join(output_folder, f\"{feature}_distribution.png\")\n",
    "        plt.savefig(plot_filename)\n",
    "        plt.close()  # Close the plot to free memory"
   ]
  },
  {
   "cell_type": "code",
   "execution_count": null,
   "id": "5eee077e",
   "metadata": {},
   "outputs": [],
   "source": [
    "# Set Seaborn style directly\n",
    "sns.set_style(\"darkgrid\")  # Use Seaborn's darkgrid style directly\n",
    "\n",
    "def plot_kde_with_gaussian_kernel(data, features, group_column, bandwidth_methods=[\"scott\", \"silverman\"], output_folder=\"kde_kernel_comparison_plots\"):\n",
    "    \"\"\"\n",
    "    Plot KDEs with the Gaussian kernel and different bandwidth methods, comparing Normal and Attack on the same plot,\n",
    "    with filled areas under each line for better comparison.\n",
    "\n",
    "    Parameters:\n",
    "    - data: DataFrame containing the data.\n",
    "    - features: List of feature names to plot.\n",
    "    - group_column: Column name used for grouping (e.g., 'binary_label' or 'multiclass_label').\n",
    "    - bandwidth_methods: List of bandwidth methods to apply (e.g., 'scott', 'silverman').\n",
    "    - output_folder: Path to the folder where plots will be saved.\n",
    "    \"\"\"\n",
    "\n",
    "    # Ensure the output folder exists\n",
    "    os.makedirs(output_folder, exist_ok=True)\n",
    "\n",
    "    # Set the context for high-quality appearance\n",
    "    plt.rcParams.update({\n",
    "        \"figure.dpi\": 150,  # High resolution for display\n",
    "        \"axes.titlesize\": 14,\n",
    "        \"axes.labelsize\": 12,\n",
    "        \"legend.fontsize\": 10,\n",
    "        \"lines.linewidth\": 1.8\n",
    "    })\n",
    "\n",
    "    # Iterate over each feature and generate KDEs\n",
    "    for feature in features:\n",
    "        for bw_method in bandwidth_methods:\n",
    "            plt.figure(figsize=(10, 6))\n",
    "            \n",
    "            # Plot KDEs for both Normal and Attack on the same plot\n",
    "            for label in data[group_column].unique():\n",
    "                subset = data[data[group_column] == label][feature].dropna()\n",
    "                label_name = \"Normal\" if label == 0 else \"Attack\"\n",
    "\n",
    "                # Fit KDE with Gaussian kernel and specified bandwidth\n",
    "                kde = KDEUnivariate(subset)\n",
    "                kde.fit(kernel=\"gau\", bw=bw_method)\n",
    "                \n",
    "                # Set color and plot filled area for each category\n",
    "                color = \"steelblue\" if label == 0 else \"coral\"\n",
    "                plt.fill_between(kde.support, kde.density, color=color, alpha=0.5, label=f\"{label_name} - BW: {bw_method}\")\n",
    "\n",
    "            # Customizing the title, labels, and legend\n",
    "            plt.title(f'Distribution of {feature} Across {group_column} Labels (Gaussian Kernel, BW: {bw_method})')\n",
    "            plt.xlabel(feature)\n",
    "            plt.ylabel(\"Density\")\n",
    "            plt.legend(loc=\"upper right\", frameon=True, shadow=True)\n",
    "\n",
    "            # Save the plot with a high-quality format\n",
    "            plot_filename = os.path.join(output_folder, f\"{feature}_comparison_gaussian_bw_{bw_method}.png\")\n",
    "            plt.savefig(plot_filename, format=\"png\", dpi=300, bbox_inches=\"tight\")\n",
    "            plt.close()  # Close the plot to free memory\n",
    "            print(f\"Saved high-quality plot with filled area: {plot_filename}\")\n"
   ]
  },
  {
   "cell_type": "markdown",
   "id": "4aba13cb",
   "metadata": {},
   "source": [
    "#### Define features for analysis"
   ]
  },
  {
   "cell_type": "code",
   "execution_count": null,
   "id": "620b679d",
   "metadata": {},
   "outputs": [],
   "source": [
    "# Select key features to analyze\n",
    "key_features = ['bearer_0_dl_total_bytes', 'bearer_0_ul_total_bytes',\n",
    "       'bearer_1_dl_total_bytes', 'bearer_1_ul_total_bytes', 'dl_bitrate',\n",
    "       'ul_bitrate', 'ul_retx', 'ul_err', 'ul_mcs', 'ul_path_loss', 'ul_phr',\n",
    "       'dl_err', 'dl_mcs', 'dl_retx', 'dl_tx', 'cqi', 'epre', 'p_ue',\n",
    "       'pusch_snr', 'turbo_decoder_avg', 'ul_tx']"
   ]
  },
  {
   "cell_type": "markdown",
   "id": "bf29e2f7",
   "metadata": {},
   "source": [
    "#### EDA for the normal final datasets"
   ]
  },
  {
   "cell_type": "code",
   "execution_count": null,
   "id": "bb6089c4",
   "metadata": {},
   "outputs": [],
   "source": [
    "# EDA for main dataset\n",
    "input_folder = 'Per_UE_Datasets_final'\n",
    "combined_data = load_data(input_folder)\n",
    "normal_data, attack_data = combined_data[combined_data[\"binary_label\"] == 0], combined_data[combined_data[\"binary_label\"] == 1]"
   ]
  },
  {
   "cell_type": "code",
   "execution_count": null,
   "id": "71283b31",
   "metadata": {
    "scrolled": true
   },
   "outputs": [],
   "source": [
    "# Plot binary label distributions\n",
    "plot_distributions(combined_data, key_features, group_column=\"binary_label\",is_multiclass=False,output_folder='binary_dist_plots')"
   ]
  },
  {
   "cell_type": "code",
   "execution_count": null,
   "id": "09d0df54",
   "metadata": {},
   "outputs": [],
   "source": [
    "plot_kde_with_gaussian_kernel(\n",
    "    data=combined_data,\n",
    "    features=key_features,\n",
    "    group_column=\"binary_label\",\n",
    "    bandwidth_methods=[\"scott\", \"silverman\"],\n",
    "    output_folder=\"kde_gaussian_kernel_experiments_binary\"\n",
    ")"
   ]
  },
  {
   "cell_type": "code",
   "execution_count": null,
   "id": "252d03a5",
   "metadata": {},
   "outputs": [],
   "source": [
    "# Calculate and save statistics for binary labels\n",
    "binary_stats_combined = calculate_statistics(combined_data, key_features, \"binary_label\")\n",
    "save_statistics(binary_stats_combined, \"binary_stats_combined.csv\")"
   ]
  },
  {
   "cell_type": "code",
   "execution_count": null,
   "id": "76d50bd8",
   "metadata": {
    "scrolled": true
   },
   "outputs": [],
   "source": [
    "# Plot multiclass label distributions\n",
    "plot_distributions(combined_data, key_features, group_column=\"multiclass_label\", is_multiclass=True,output_folder='mclass_dist_plots')"
   ]
  },
  {
   "cell_type": "code",
   "execution_count": null,
   "id": "1b4748a9",
   "metadata": {},
   "outputs": [],
   "source": [
    "plot_kde_with_gaussian_kernel(\n",
    "    data=combined_data,\n",
    "    features=key_features,\n",
    "    group_column=\"multiclass_label\",\n",
    "    bandwidth_methods=[\"scott\", \"silverman\"],\n",
    "    output_folder=\"kde_gaussian_kernel_experiments_mclass\"\n",
    ")"
   ]
  },
  {
   "cell_type": "code",
   "execution_count": null,
   "id": "d1f02e59",
   "metadata": {
    "scrolled": true
   },
   "outputs": [],
   "source": [
    "# Calculate and save statistics for multiclass labels\n",
    "multiclass_stats_combined = calculate_statistics(combined_data, key_features, \"multiclass_label\")\n",
    "save_statistics(multiclass_stats_combined, \"multiclass_stats_combined.csv\")"
   ]
  },
  {
   "cell_type": "markdown",
   "id": "816d9f74",
   "metadata": {},
   "source": [
    "#### EDA for the rate of change final datasets"
   ]
  },
  {
   "cell_type": "code",
   "execution_count": null,
   "id": "d689d251",
   "metadata": {},
   "outputs": [],
   "source": [
    "# EDA for rate of change dataset\n",
    "input_folder_roc = 'Per_UE_Datasets_final_roc'\n",
    "combined_data_roc = load_data(input_folder_roc)\n",
    "normal_data_roc, attack_data_roc = combined_data_roc[combined_data_roc[\"binary_label\"] == 0], combined_data_roc[combined_data_roc[\"binary_label\"] == 1]"
   ]
  },
  {
   "cell_type": "code",
   "execution_count": null,
   "id": "46790070",
   "metadata": {
    "scrolled": true
   },
   "outputs": [],
   "source": [
    "# Plot binary label distributions for rate of change\n",
    "plot_distributions(combined_data_roc, key_features, group_column=\"binary_label\"is_multiclass=False,output_folder='binary_dist_plots_roc')"
   ]
  },
  {
   "cell_type": "code",
   "execution_count": null,
   "id": "1a7e8f03",
   "metadata": {},
   "outputs": [],
   "source": [
    "plot_kde_with_gaussian_kernel(\n",
    "    data=combined_data_roc,\n",
    "    features=key_features,\n",
    "    group_column=\"binary_label\",\n",
    "    bandwidth_methods=[\"scott\", \"silverman\"],\n",
    "    output_folder=\"kde_gaussian_kernel_experiments_binary_roc\"\n",
    ")"
   ]
  },
  {
   "cell_type": "code",
   "execution_count": null,
   "id": "95b2918e",
   "metadata": {
    "scrolled": true
   },
   "outputs": [],
   "source": [
    "# Calculate and save statistics for binary labels (rate of change)\n",
    "binary_stats_combined_roc = calculate_statistics(combined_data_roc, key_features, \"binary_label\")\n",
    "save_statistics(binary_stats_combined_roc, \"binary_stats_combined_roc.csv\")"
   ]
  },
  {
   "cell_type": "code",
   "execution_count": null,
   "id": "b39efd8a",
   "metadata": {
    "scrolled": true
   },
   "outputs": [],
   "source": [
    "# Plot multiclass label distributions for rate of change\n",
    "plot_distributions(combined_data_roc, key_features, group_column=\"multiclass_label\", is_multiclass=True, output_folder='mclass_dist_plots_roc')"
   ]
  },
  {
   "cell_type": "code",
   "execution_count": null,
   "id": "d33a20d0",
   "metadata": {},
   "outputs": [],
   "source": [
    "plot_kde_with_gaussian_kernel(\n",
    "    data=combined_data_roc,\n",
    "    features=key_features,\n",
    "    group_column=\"multiclass_label\",\n",
    "    bandwidth_methods=[\"scott\", \"silverman\"],\n",
    "    output_folder=\"kde_gaussian_kernel_experiments_mclass_roc\"\n",
    ")"
   ]
  },
  {
   "cell_type": "code",
   "execution_count": null,
   "id": "5c757a95",
   "metadata": {
    "scrolled": true
   },
   "outputs": [],
   "source": [
    "# Calculate and save statistics for multiclass labels (rate of change)\n",
    "multiclass_stats_combined_roc = calculate_statistics(combined_data_roc, key_features, \"multiclass_label\")\n",
    "save_statistics(multiclass_stats_combined_roc, \"multiclass_stats_combined_roc.csv\")"
   ]
  }
 ],
 "metadata": {
  "kernelspec": {
   "display_name": "Python 3 (ipykernel)",
   "language": "python",
   "name": "python3"
  },
  "language_info": {
   "codemirror_mode": {
    "name": "ipython",
    "version": 3
   },
   "file_extension": ".py",
   "mimetype": "text/x-python",
   "name": "python",
   "nbconvert_exporter": "python",
   "pygments_lexer": "ipython3",
   "version": "3.11.3"
  }
 },
 "nbformat": 4,
 "nbformat_minor": 5
}
